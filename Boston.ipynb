{
  "nbformat": 4,
  "nbformat_minor": 0,
  "metadata": {
    "colab": {
      "name": "Boston.ipynb",
      "provenance": [],
      "collapsed_sections": [],
      "authorship_tag": "ABX9TyN9//Lfx70131vmP6dP8PMD",
      "include_colab_link": true
    },
    "kernelspec": {
      "name": "python3",
      "display_name": "Python 3"
    },
    "language_info": {
      "name": "python"
    },
    "widgets": {
      "application/vnd.jupyter.widget-state+json": {
        "de5b2071e77e47fbbd1f6b2810f51614": {
          "model_module": "@jupyter-widgets/controls",
          "model_name": "HBoxModel",
          "model_module_version": "1.5.0",
          "state": {
            "_view_name": "HBoxView",
            "_dom_classes": [],
            "_model_name": "HBoxModel",
            "_view_module": "@jupyter-widgets/controls",
            "_model_module_version": "1.5.0",
            "_view_count": null,
            "_view_module_version": "1.5.0",
            "box_style": "",
            "layout": "IPY_MODEL_15dae4c88a1a4128958e372a0f70d19a",
            "_model_module": "@jupyter-widgets/controls",
            "children": [
              "IPY_MODEL_424ed174e4a3454f8119c72604b5a3c5",
              "IPY_MODEL_69943ba680f94cf7b886fc3b10a22420",
              "IPY_MODEL_b12289af99b040149f9cddc54aff5f18"
            ]
          }
        },
        "f0fc41010a51422aa604a3614d511f19": {
          "model_module": "@jupyter-widgets/controls",
          "model_name": "HBoxModel",
          "model_module_version": "1.5.0",
          "state": {
            "_view_name": "HBoxView",
            "_dom_classes": [],
            "_model_name": "HBoxModel",
            "_view_module": "@jupyter-widgets/controls",
            "_model_module_version": "1.5.0",
            "_view_count": null,
            "_view_module_version": "1.5.0",
            "box_style": "",
            "layout": "IPY_MODEL_53d20553a4f24e7097e2a721ec958d91",
            "_model_module": "@jupyter-widgets/controls",
            "children": [
              "IPY_MODEL_b026b20ecc3b43a89fa8fb6ad25efc40",
              "IPY_MODEL_49bc456335314490b2ca7843d416228d",
              "IPY_MODEL_99210deb6e6c4e4fa69f3cfe4c382161"
            ]
          }
        },
        "17e86c76a41144c785e1b3db91d3ae81": {
          "model_module": "@jupyter-widgets/controls",
          "model_name": "HBoxModel",
          "model_module_version": "1.5.0",
          "state": {
            "_view_name": "HBoxView",
            "_dom_classes": [],
            "_model_name": "HBoxModel",
            "_view_module": "@jupyter-widgets/controls",
            "_model_module_version": "1.5.0",
            "_view_count": null,
            "_view_module_version": "1.5.0",
            "box_style": "",
            "layout": "IPY_MODEL_8aca72948d8548039ce64c9985c0779c",
            "_model_module": "@jupyter-widgets/controls",
            "children": [
              "IPY_MODEL_480f1bca14fe4cc2baf1abf86c1d28e3",
              "IPY_MODEL_c026c6786dc64f3384400167681a35eb",
              "IPY_MODEL_2cb7e915d59940c19e7a70438053747a"
            ]
          }
        },
        "b704f1fccea0409ea529d896a9a222b5": {
          "model_module": "@jupyter-widgets/controls",
          "model_name": "HBoxModel",
          "model_module_version": "1.5.0",
          "state": {
            "_view_name": "HBoxView",
            "_dom_classes": [],
            "_model_name": "HBoxModel",
            "_view_module": "@jupyter-widgets/controls",
            "_model_module_version": "1.5.0",
            "_view_count": null,
            "_view_module_version": "1.5.0",
            "box_style": "",
            "layout": "IPY_MODEL_b2101e92e38b4c48b9d5699129211c9f",
            "_model_module": "@jupyter-widgets/controls",
            "children": [
              "IPY_MODEL_9d3c8b9f27744746a6bab5b34ebe086c",
              "IPY_MODEL_21fb6de78d804357aaaebb2661ad1267",
              "IPY_MODEL_4b2c48534c964884a5c87217c0120218"
            ]
          }
        }
      }
    }
  },
  "cells": [
    {
      "cell_type": "markdown",
      "metadata": {
        "id": "view-in-github",
        "colab_type": "text"
      },
      "source": [
        "<a href=\"https://colab.research.google.com/github/Arminhosseini/Linear_boston/blob/master/Boston.ipynb\" target=\"_parent\"><img src=\"https://colab.research.google.com/assets/colab-badge.svg\" alt=\"Open In Colab\"/></a>"
      ]
    },
    {
      "cell_type": "code",
      "metadata": {
        "id": "58g6ceojO8Yp"
      },
      "source": [
        "! pip install https://github.com/pandas-profiling/pandas-profiling/archive/master.zip "
      ],
      "execution_count": null,
      "outputs": []
    },
    {
      "cell_type": "code",
      "metadata": {
        "id": "Ecx5fCa0HAFV"
      },
      "source": [
        "from sklearn.datasets import load_boston\n",
        "import pandas as pd\n",
        "import numpy as np\n",
        "from pandas_profiling import ProfileReport\n",
        "import pandas_profiling\n",
        "from sklearn.model_selection import train_test_split\n",
        "from sklearn.linear_model import LinearRegression\n",
        "import matplotlib.pyplot as plt\n",
        "from sklearn.metrics import mean_squared_error"
      ],
      "execution_count": null,
      "outputs": []
    },
    {
      "cell_type": "code",
      "metadata": {
        "id": "zNlKX5TFJhxL"
      },
      "source": [
        "dataset = load_boston()"
      ],
      "execution_count": null,
      "outputs": []
    },
    {
      "cell_type": "code",
      "metadata": {
        "id": "cLx0qW8MJjNb"
      },
      "source": [
        "data = pd.DataFrame(dataset.data, columns=dataset.feature_names)"
      ],
      "execution_count": null,
      "outputs": []
    },
    {
      "cell_type": "code",
      "metadata": {
        "id": "jddY2DT0J8EZ"
      },
      "source": [
        "data['target'] = dataset.target"
      ],
      "execution_count": null,
      "outputs": []
    },
    {
      "cell_type": "code",
      "metadata": {
        "id": "gh62uosMKawz"
      },
      "source": [
        "data.head()"
      ],
      "execution_count": null,
      "outputs": []
    },
    {
      "cell_type": "code",
      "metadata": {
        "id": "VtfRuOzTKccT"
      },
      "source": [
        "data.describe()"
      ],
      "execution_count": null,
      "outputs": []
    },
    {
      "cell_type": "code",
      "metadata": {
        "id": "e-IsPlauLQMM"
      },
      "source": [
        "profile = ProfileReport(data)"
      ],
      "execution_count": null,
      "outputs": []
    },
    {
      "cell_type": "code",
      "metadata": {
        "colab": {
          "base_uri": "https://localhost:8080/",
          "height": 17,
          "referenced_widgets": [
            "de5b2071e77e47fbbd1f6b2810f51614",
            "f0fc41010a51422aa604a3614d511f19",
            "17e86c76a41144c785e1b3db91d3ae81",
            "b704f1fccea0409ea529d896a9a222b5",
            "15dae4c88a1a4128958e372a0f70d19a",
            "424ed174e4a3454f8119c72604b5a3c5",
            "69943ba680f94cf7b886fc3b10a22420",
            "b12289af99b040149f9cddc54aff5f18",
            "53d20553a4f24e7097e2a721ec958d91",
            "b026b20ecc3b43a89fa8fb6ad25efc40",
            "49bc456335314490b2ca7843d416228d",
            "99210deb6e6c4e4fa69f3cfe4c382161",
            "8aca72948d8548039ce64c9985c0779c",
            "480f1bca14fe4cc2baf1abf86c1d28e3",
            "c026c6786dc64f3384400167681a35eb",
            "2cb7e915d59940c19e7a70438053747a",
            "b2101e92e38b4c48b9d5699129211c9f",
            "9d3c8b9f27744746a6bab5b34ebe086c",
            "21fb6de78d804357aaaebb2661ad1267",
            "4b2c48534c964884a5c87217c0120218"
          ]
        },
        "id": "sh6soVVFLwnV",
        "outputId": "0aa06b0e-41e0-48b2-b802-3858d232d49a"
      },
      "source": [
        "profile.to_file('boston.html')"
      ],
      "execution_count": null,
      "outputs": [
        {
          "output_type": "display_data",
          "data": {
            "application/vnd.jupyter.widget-view+json": {
              "model_id": "de5b2071e77e47fbbd1f6b2810f51614",
              "version_minor": 0,
              "version_major": 2
            },
            "text/plain": [
              "Summarize dataset:   0%|          | 0/27 [00:00<?, ?it/s]"
            ]
          },
          "metadata": {
            "tags": []
          }
        },
        {
          "output_type": "display_data",
          "data": {
            "application/vnd.jupyter.widget-view+json": {
              "model_id": "f0fc41010a51422aa604a3614d511f19",
              "version_minor": 0,
              "version_major": 2
            },
            "text/plain": [
              "Generate report structure:   0%|          | 0/1 [00:00<?, ?it/s]"
            ]
          },
          "metadata": {
            "tags": []
          }
        },
        {
          "output_type": "display_data",
          "data": {
            "application/vnd.jupyter.widget-view+json": {
              "model_id": "17e86c76a41144c785e1b3db91d3ae81",
              "version_minor": 0,
              "version_major": 2
            },
            "text/plain": [
              "Render HTML:   0%|          | 0/1 [00:00<?, ?it/s]"
            ]
          },
          "metadata": {
            "tags": []
          }
        },
        {
          "output_type": "display_data",
          "data": {
            "application/vnd.jupyter.widget-view+json": {
              "model_id": "b704f1fccea0409ea529d896a9a222b5",
              "version_minor": 0,
              "version_major": 2
            },
            "text/plain": [
              "Export report to file:   0%|          | 0/1 [00:00<?, ?it/s]"
            ]
          },
          "metadata": {
            "tags": []
          }
        }
      ]
    },
    {
      "cell_type": "code",
      "metadata": {
        "id": "MsOfxnn1Sm7V"
      },
      "source": [
        "data = data.sample(frac=1)"
      ],
      "execution_count": null,
      "outputs": []
    },
    {
      "cell_type": "code",
      "metadata": {
        "id": "ncBNf6n1Srab"
      },
      "source": [
        "train, test = train_test_split(data, test_size=.2)"
      ],
      "execution_count": null,
      "outputs": []
    },
    {
      "cell_type": "code",
      "metadata": {
        "id": "59Z1lQ3ITIri"
      },
      "source": [
        "xtrain = train.LSTAT.values.reshape(-1, 1)\n",
        "ytrain = train.target\n",
        "xtest = test.LSTAT.values.reshape(-1, 1)\n",
        "ytest = test.target"
      ],
      "execution_count": null,
      "outputs": []
    },
    {
      "cell_type": "code",
      "metadata": {
        "id": "6M8-pH-HTYQT"
      },
      "source": [
        "lr = LinearRegression()"
      ],
      "execution_count": null,
      "outputs": []
    },
    {
      "cell_type": "code",
      "metadata": {
        "colab": {
          "base_uri": "https://localhost:8080/"
        },
        "id": "JjRrE_y9UY7m",
        "outputId": "8e472f2f-fd8a-4594-e1f5-da61a4fb8787"
      },
      "source": [
        "lr.fit(xtrain, ytrain)"
      ],
      "execution_count": null,
      "outputs": [
        {
          "output_type": "execute_result",
          "data": {
            "text/plain": [
              "LinearRegression(copy_X=True, fit_intercept=True, n_jobs=None, normalize=False)"
            ]
          },
          "metadata": {
            "tags": []
          },
          "execution_count": 11
        }
      ]
    },
    {
      "cell_type": "code",
      "metadata": {
        "colab": {
          "base_uri": "https://localhost:8080/"
        },
        "id": "5xYAuGaFUzf6",
        "outputId": "fc0d8158-dea3-4851-e400-80fec68cb6a7"
      },
      "source": [
        "lr.coef_, lr.intercept_"
      ],
      "execution_count": null,
      "outputs": [
        {
          "output_type": "execute_result",
          "data": {
            "text/plain": [
              "(array([-0.93204237]), 34.4025679729247)"
            ]
          },
          "metadata": {
            "tags": []
          },
          "execution_count": 12
        }
      ]
    },
    {
      "cell_type": "code",
      "metadata": {
        "id": "zxTO9DExU2xQ"
      },
      "source": [
        "yhat_train = lr.predict(xtrain)\n",
        "yhat_test = lr.predict(xtest)\n",
        "yhat = lr.predict(data.LSTAT.values.reshape(-1 ,1))"
      ],
      "execution_count": null,
      "outputs": []
    },
    {
      "cell_type": "code",
      "metadata": {
        "colab": {
          "base_uri": "https://localhost:8080/"
        },
        "id": "tsV_9sDEVicI",
        "outputId": "2ed194bb-d0dd-4820-ad96-a7f2b7c8dee4"
      },
      "source": [
        "yhat.shape, yhat_test.shape, yhat_train.shape"
      ],
      "execution_count": null,
      "outputs": [
        {
          "output_type": "execute_result",
          "data": {
            "text/plain": [
              "((506,), (102,), (404,))"
            ]
          },
          "metadata": {
            "tags": []
          },
          "execution_count": 14
        }
      ]
    },
    {
      "cell_type": "code",
      "metadata": {
        "colab": {
          "base_uri": "https://localhost:8080/",
          "height": 405
        },
        "id": "Qf0YtTUnWWIy",
        "outputId": "a1f17968-0cdc-4550-b8c4-38b6bf9c6fba"
      },
      "source": [
        "fig, ax = plt.subplots(figsize = (6, 6))\n",
        "ax.set_xlabel('LSTAT')\n",
        "ax.set_ylabel('Target')\n",
        "ax.scatter(xtrain, ytrain)\n",
        "ax.scatter(xtrain, yhat_train)"
      ],
      "execution_count": null,
      "outputs": [
        {
          "output_type": "execute_result",
          "data": {
            "text/plain": [
              "<matplotlib.collections.PathCollection at 0x7fb9e54f0fd0>"
            ]
          },
          "metadata": {
            "tags": []
          },
          "execution_count": 15
        },
        {
          "output_type": "display_data",
          "data": {
            "image/png": "[encoded data removed]",
            "text/plain": [
              "<Figure size 432x432 with 1 Axes>"
            ]
          },
          "metadata": {
            "tags": [],
            "needs_background": "light"
          }
        }
      ]
    },
    {
      "cell_type": "code",
      "metadata": {
        "colab": {
          "base_uri": "https://localhost:8080/",
          "height": 405
        },
        "id": "-dHYcacqX-go",
        "outputId": "992904c7-05db-41dd-e153-6977873a77cd"
      },
      "source": [
        "fig, ax = plt.subplots(figsize = (6, 6))\n",
        "ax.set_xlabel('LSTAT')\n",
        "ax.set_ylabel('Target')\n",
        "ax.scatter(xtrain, ytrain)\n",
        "ax.scatter(xtest, yhat_test)"
      ],
      "execution_count": null,
      "outputs": [
        {
          "output_type": "execute_result",
          "data": {
            "text/plain": [
              "<matplotlib.collections.PathCollection at 0x7fb9e131fd90>"
            ]
          },
          "metadata": {
            "tags": []
          },
          "execution_count": 16
        },
        {
          "output_type": "display_data",
          "data": {
            "image/png": "[encoded data removed]",
            "text/plain": [
              "<Figure size 432x432 with 1 Axes>"
            ]
          },
          "metadata": {
            "tags": [],
            "needs_background": "light"
          }
        }
      ]
    },
    {
      "cell_type": "code",
      "metadata": {
        "colab": {
          "base_uri": "https://localhost:8080/"
        },
        "id": "LiehIjJWYjX-",
        "outputId": "9bdf50c2-ded7-489f-fc06-5a282d091ed0"
      },
      "source": [
        "np.sqrt(mean_squared_error(ytrain, yhat_train))"
      ],
      "execution_count": null,
      "outputs": [
        {
          "output_type": "execute_result",
          "data": {
            "text/plain": [
              "6.071940039778479"
            ]
          },
          "metadata": {
            "tags": []
          },
          "execution_count": 17
        }
      ]
    },
    {
      "cell_type": "code",
      "metadata": {
        "colab": {
          "base_uri": "https://localhost:8080/"
        },
        "id": "TB0cv6YYY5o-",
        "outputId": "de03284d-32e6-4c34-d305-f3522acc07ee"
      },
      "source": [
        "np.sqrt(mean_squared_error(ytest, yhat_test))"
      ],
      "execution_count": null,
      "outputs": [
        {
          "output_type": "execute_result",
          "data": {
            "text/plain": [
              "6.707357830553723"
            ]
          },
          "metadata": {
            "tags": []
          },
          "execution_count": 18
        }
      ]
    },
    {
      "cell_type": "code",
      "metadata": {
        "id": "OvnJRN2vmju9"
      },
      "source": [
        "from sklearn.metrics import mean_absolute_error, r2_score"
      ],
      "execution_count": null,
      "outputs": []
    },
    {
      "cell_type": "code",
      "metadata": {
        "colab": {
          "base_uri": "https://localhost:8080/"
        },
        "id": "TxnfbLJFmwMZ",
        "outputId": "438cd134-9cd2-4f3f-a0fe-ce7136dd287d"
      },
      "source": [
        "mean_absolute_error(ytrain, yhat_train), mean_absolute_error(ytest, yhat_test)"
      ],
      "execution_count": null,
      "outputs": [
        {
          "output_type": "execute_result",
          "data": {
            "text/plain": [
              "(4.39821678158616, 4.995523151346125)"
            ]
          },
          "metadata": {
            "tags": []
          },
          "execution_count": 20
        }
      ]
    },
    {
      "cell_type": "code",
      "metadata": {
        "colab": {
          "base_uri": "https://localhost:8080/"
        },
        "id": "R9a8VfXKnOhD",
        "outputId": "fd12d87d-0aa0-4a68-fe14-6591eeca19b7"
      },
      "source": [
        "r2_score(ytrain, yhat_train), r2_score(ytest, yhat_test)"
      ],
      "execution_count": null,
      "outputs": [
        {
          "output_type": "execute_result",
          "data": {
            "text/plain": [
              "(0.5498933083119588, 0.5230594509242923)"
            ]
          },
          "metadata": {
            "tags": []
          },
          "execution_count": 21
        }
      ]
    },
    {
      "cell_type": "markdown",
      "metadata": {
        "id": "uGRK5_ar8qFL"
      },
      "source": [
        "# multivariate"
      ]
    },
    {
      "cell_type": "code",
      "metadata": {
        "id": "0Ul8Wsqj8yIG"
      },
      "source": [
        "cols = ['LSTAT', 'RM']\n",
        "\n",
        "xtrain = train[cols]\n",
        "xtest = test[cols]"
      ],
      "execution_count": null,
      "outputs": []
    },
    {
      "cell_type": "code",
      "metadata": {
        "id": "Q5rrfhMv9KH6"
      },
      "source": [
        "lr = LinearRegression()\n",
        "lr.fit(xtrain, ytrain)\n",
        "yhat_train = lr.predict(xtrain)\n",
        "yhat_test = lr.predict(xtest)"
      ],
      "execution_count": null,
      "outputs": []
    },
    {
      "cell_type": "code",
      "metadata": {
        "colab": {
          "base_uri": "https://localhost:8080/"
        },
        "id": "P59eaYO59qjb",
        "outputId": "a73215b8-66b0-4024-9bf8-3225259ec137"
      },
      "source": [
        "lr.score(xtest, ytest)"
      ],
      "execution_count": null,
      "outputs": [
        {
          "output_type": "execute_result",
          "data": {
            "text/plain": [
              "0.6703427871818863"
            ]
          },
          "metadata": {
            "tags": []
          },
          "execution_count": 24
        }
      ]
    },
    {
      "cell_type": "code",
      "metadata": {
        "id": "_CBiVaiz-cQc"
      },
      "source": [
        "from sklearn.preprocessing import MinMaxScaler, StandardScaler, RobustScaler"
      ],
      "execution_count": null,
      "outputs": []
    },
    {
      "cell_type": "code",
      "metadata": {
        "id": "ZKkHxgSV-mTU"
      },
      "source": [
        "scalar = StandardScaler()"
      ],
      "execution_count": null,
      "outputs": []
    },
    {
      "cell_type": "code",
      "metadata": {
        "id": "sVtKVj4s_l4g"
      },
      "source": [
        "xtrain = scalar.fit_transform(xtrain)"
      ],
      "execution_count": null,
      "outputs": []
    },
    {
      "cell_type": "code",
      "metadata": {
        "id": "v5WHJri__3CH"
      },
      "source": [
        "xtest = scalar.transform(xtest)"
      ],
      "execution_count": null,
      "outputs": []
    },
    {
      "cell_type": "code",
      "metadata": {
        "colab": {
          "base_uri": "https://localhost:8080/"
        },
        "id": "59rDfnAgACks",
        "outputId": "77162a0d-c1af-4ab9-8903-b0d3922f0f58"
      },
      "source": [
        "xtrain.mean(axis=0), xtest.mean(axis=0)"
      ],
      "execution_count": null,
      "outputs": [
        {
          "output_type": "execute_result",
          "data": {
            "text/plain": [
              "(array([-1.75876915e-16, -3.07784601e-16]), array([-0.08542165,  0.05921646]))"
            ]
          },
          "metadata": {
            "tags": []
          },
          "execution_count": 29
        }
      ]
    },
    {
      "cell_type": "code",
      "metadata": {
        "colab": {
          "base_uri": "https://localhost:8080/"
        },
        "id": "jsDlzxNJALzJ",
        "outputId": "2e2b92dc-797d-40c2-e724-1efd8414d6cb"
      },
      "source": [
        "lr = LinearRegression()\n",
        "lr.fit(xtrain, ytrain)"
      ],
      "execution_count": null,
      "outputs": [
        {
          "output_type": "execute_result",
          "data": {
            "text/plain": [
              "LinearRegression(copy_X=True, fit_intercept=True, n_jobs=None, normalize=False)"
            ]
          },
          "metadata": {
            "tags": []
          },
          "execution_count": 30
        }
      ]
    },
    {
      "cell_type": "code",
      "metadata": {
        "colab": {
          "base_uri": "https://localhost:8080/"
        },
        "id": "jFlitf4QAz3y",
        "outputId": "17b8ef92-961f-47b3-c42a-ec50cec76b15"
      },
      "source": [
        "lr.score(xtest, ytest)"
      ],
      "execution_count": null,
      "outputs": [
        {
          "output_type": "execute_result",
          "data": {
            "text/plain": [
              "0.6703427871818861"
            ]
          },
          "metadata": {
            "tags": []
          },
          "execution_count": 31
        }
      ]
    },
    {
      "cell_type": "code",
      "metadata": {
        "id": "E3lB2uzJmThL"
      },
      "source": [
        "from sklearn.model_selection import cross_val_score, cross_val_predict, GridSearchCV"
      ],
      "execution_count": null,
      "outputs": []
    },
    {
      "cell_type": "code",
      "metadata": {
        "id": "Gk_O3c4Kmcyq"
      },
      "source": [
        "lr = LinearRegression()"
      ],
      "execution_count": null,
      "outputs": []
    },
    {
      "cell_type": "code",
      "metadata": {
        "id": "SR-_866CnJJp"
      },
      "source": [
        "scores = cross_val_score(lr, xtrain, ytrain)"
      ],
      "execution_count": null,
      "outputs": []
    },
    {
      "cell_type": "code",
      "metadata": {
        "colab": {
          "base_uri": "https://localhost:8080/"
        },
        "id": "IbGFnRjRoE8H",
        "outputId": "99126cd3-a333-4465-f664-7f66039141e0"
      },
      "source": [
        "scores, scores.mean()"
      ],
      "execution_count": null,
      "outputs": [
        {
          "output_type": "execute_result",
          "data": {
            "text/plain": [
              "(array([0.54925772, 0.74755163, 0.50240189, 0.67332297, 0.56923327]),\n",
              " 0.6083534961277056)"
            ]
          },
          "metadata": {
            "tags": []
          },
          "execution_count": 35
        }
      ]
    },
    {
      "cell_type": "code",
      "metadata": {
        "id": "Fmu_Kx9EoI8_"
      },
      "source": [
        "from sklearn.linear_model import Ridge"
      ],
      "execution_count": null,
      "outputs": []
    },
    {
      "cell_type": "code",
      "metadata": {
        "id": "agYrHoMMojBA"
      },
      "source": [
        "rr = Ridge(alpha=10)"
      ],
      "execution_count": null,
      "outputs": []
    },
    {
      "cell_type": "code",
      "metadata": {
        "colab": {
          "base_uri": "https://localhost:8080/"
        },
        "id": "0Ahs-uIpottQ",
        "outputId": "8487c35a-6dff-4964-9428-70c024ba8941"
      },
      "source": [
        "cross_val_score(rr, xtrain, ytrain, cv=5)"
      ],
      "execution_count": null,
      "outputs": [
        {
          "output_type": "execute_result",
          "data": {
            "text/plain": [
              "array([0.55646615, 0.74345247, 0.5014937 , 0.67160806, 0.57058429])"
            ]
          },
          "metadata": {
            "tags": []
          },
          "execution_count": 41
        }
      ]
    },
    {
      "cell_type": "code",
      "metadata": {
        "id": "Z_7Am_GXpUQ4"
      },
      "source": [
        "gs = GridSearchCV(rr, {'alpha':[.1,1,10]}, cv=5)"
      ],
      "execution_count": null,
      "outputs": []
    },
    {
      "cell_type": "code",
      "metadata": {
        "colab": {
          "base_uri": "https://localhost:8080/"
        },
        "id": "V91v1wuGppj5",
        "outputId": "0838b9c6-8abd-4d20-bcd1-a98f5fde4686"
      },
      "source": [
        "gs.fit(xtrain, ytrain)"
      ],
      "execution_count": null,
      "outputs": [
        {
          "output_type": "execute_result",
          "data": {
            "text/plain": [
              "GridSearchCV(cv=5, error_score=nan,\n",
              "             estimator=Ridge(alpha=10, copy_X=True, fit_intercept=True,\n",
              "                             max_iter=None, normalize=False, random_state=None,\n",
              "                             solver='auto', tol=0.001),\n",
              "             iid='deprecated', n_jobs=None, param_grid={'alpha': [0.1, 1, 10]},\n",
              "             pre_dispatch='2*n_jobs', refit=True, return_train_score=False,\n",
              "             scoring=None, verbose=0)"
            ]
          },
          "metadata": {
            "tags": []
          },
          "execution_count": 44
        }
      ]
    },
    {
      "cell_type": "code",
      "metadata": {
        "id": "Kcb6xdOMp9O5"
      },
      "source": [
        ""
      ],
      "execution_count": null,
      "outputs": []
    }
  ]
}